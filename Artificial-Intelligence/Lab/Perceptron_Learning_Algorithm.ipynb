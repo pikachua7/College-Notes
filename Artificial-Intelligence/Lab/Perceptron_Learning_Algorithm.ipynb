{
 "cells": [
  {
   "cell_type": "code",
   "execution_count": 9,
   "metadata": {},
   "outputs": [],
   "source": [
    "dataset=[[-1,-1,-1],[-1,1,-1],[1,-1,-1],[1,1,1]] #x1,x2,desired"
   ]
  },
  {
   "cell_type": "code",
   "execution_count": 35,
   "metadata": {},
   "outputs": [],
   "source": [
    "weights=[0.1,0.5,0.3] #w1,w2,w3"
   ]
  },
  {
   "cell_type": "code",
   "execution_count": 19,
   "metadata": {},
   "outputs": [],
   "source": [
    "#w1.x1+w2.x2+w3.x3\n",
    "def predict(row,weights):\n",
    "    net=weights[-1] #bias value (w*1=w)\n",
    "    for i in range(len(row)-1):\n",
    "        net+=weights[i]*row[i]\n",
    "    if net<0:\n",
    "        return -1\n",
    "    else:\n",
    "        return 1"
   ]
  },
  {
   "cell_type": "code",
   "execution_count": 20,
   "metadata": {},
   "outputs": [
    {
     "name": "stdout",
     "output_type": "stream",
     "text": [
      "Desired Value=-1, Predicted Value=1\n",
      "Desired Value=-1, Predicted Value=1\n",
      "Desired Value=-1, Predicted Value=-1\n",
      "Desired Value=1, Predicted Value=1\n"
     ]
    }
   ],
   "source": [
    "for row in dataset:\n",
    "    net=predict(row,weights)\n",
    "    print(\"Desired Value=%d, Predicted Value=%d\" % (row[-1], net))"
   ]
  },
  {
   "cell_type": "code",
   "execution_count": 31,
   "metadata": {},
   "outputs": [
    {
     "name": "stdout",
     "output_type": "stream",
     "text": [
      "[0, 0, 0]\n"
     ]
    }
   ],
   "source": [
    "def train_weights(dataset):\n",
    "    weights = [0 for i in range(len(dataset[0]))]\n",
    "    for i in range(4):\n",
    "        sum_error = 0\n",
    "        for row in dataset:\n",
    "            predicted = predict(row, weights)\n",
    "            error = row[-1] - predicted\n",
    "            sum_error += error**2\n",
    "            weights[0] = weights[0]\n",
    "            for i in range(len(row)-1):\n",
    "                weights[i+1] = weights[i+1] + row[i]\n",
    "    return weights\n",
    "\n",
    "\n",
    "weights = train_weights(dataset)\n",
    "print(weights)"
   ]
  },
  {
   "cell_type": "code",
   "execution_count": 39,
   "metadata": {},
   "outputs": [
    {
     "ename": "IndentationError",
     "evalue": "unindent does not match any outer indentation level (<tokenize>, line 21)",
     "output_type": "error",
     "traceback": [
      "\u001b[1;36m  File \u001b[1;32m\"<tokenize>\"\u001b[1;36m, line \u001b[1;32m21\u001b[0m\n\u001b[1;33m    return weights\u001b[0m\n\u001b[1;37m    ^\u001b[0m\n\u001b[1;31mIndentationError\u001b[0m\u001b[1;31m:\u001b[0m unindent does not match any outer indentation level\n"
     ]
    }
   ],
   "source": [
    "# Make a prediction with weights\n",
    "def predict(row, weights):\n",
    "\tactivation = weights[0]\n",
    "\tfor i in range(len(row)-1):\n",
    "\t\tactivation += weights[i + 1] * row[i]\n",
    "\treturn 1 if activation >= 0.0 else -1\n",
    "\n",
    "# Estimate Perceptron weights using stochastic gradient descent\n",
    "def train_weights(train, l_rate, n_epoch):\n",
    "    weights = [0.0 for i in range(len(train[0]))]\n",
    "    for epoch in range(n_epoch):\n",
    "        sum_error = 0.0\n",
    "        for row in train:\n",
    "            prediction = predict(row, weights)\n",
    "            error = row[-1] - prediction\n",
    "            sum_error += error**2\n",
    "            weights[0] = weights[0] + l_rate * error\n",
    "            for i in range(len(row)-1):\n",
    "                weights[i + 1] = weights[i + 1] + l_rate * error * row[i]\n",
    "        #print('>epoch=%d, lrate=%.3f, error=%.3f' % (epoch, l_rate, sum_error))\n",
    "    return weights\n",
    "\n",
    "# Calculate weights\n",
    "dataset=[[-1,-1,-1],[-1,1,-1],[1,-1,-1],[1,1,1]]\n",
    "l_rate = 1\n",
    "n_epoch = 1\n",
    "weights = train_weights(dataset, l_rate, n_epoch)\n",
    "print(weights)"
   ]
  },
  {
   "cell_type": "code",
   "execution_count": null,
   "metadata": {},
   "outputs": [],
   "source": []
  }
 ],
 "metadata": {
  "kernelspec": {
   "display_name": "Python 3",
   "language": "python",
   "name": "python3"
  },
  "language_info": {
   "codemirror_mode": {
    "name": "ipython",
    "version": 3
   },
   "file_extension": ".py",
   "mimetype": "text/x-python",
   "name": "python",
   "nbconvert_exporter": "python",
   "pygments_lexer": "ipython3",
   "version": "3.8.5"
  }
 },
 "nbformat": 4,
 "nbformat_minor": 4
}
