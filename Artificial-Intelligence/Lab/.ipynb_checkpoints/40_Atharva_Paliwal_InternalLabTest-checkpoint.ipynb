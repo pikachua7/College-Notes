{
 "cells": [
  {
   "cell_type": "code",
   "execution_count": 3,
   "metadata": {},
   "outputs": [
    {
     "name": "stdout",
     "output_type": "stream",
     "text": [
      "Intial Random Weights :  [1, 8, 1, 4]\n",
      "NOR gate : \n",
      "Desired Output :  [1, -1, -1, -1, -1, -1, -1, -1]\n",
      "Weight Vector :  [-3, -4, -3, -4]\n",
      "Iterations :  4\n",
      "Truth Table : \n",
      "x1 = -1  ||  x2 = -1  ||  x3 = -1\n",
      "x1 = -1  ||  x2 = -1  ||  x3 = 1\n",
      "x1 = -1  ||  x2 = 1  ||  x3 = -1\n",
      "x1 = -1  ||  x2 = 1  ||  x3 = 1\n",
      "x1 = 1  ||  x2 = -1  ||  x3 = -1\n",
      "x1 = 1  ||  x2 = -1  ||  x3 = 1\n",
      "x1 = 1  ||  x2 = 1  ||  x3 = -1\n",
      "x1 = 1  ||  x2 = 1  ||  x3 = 1\n"
     ]
    }
   ],
   "source": [
    "import random\n",
    "import numpy as np\n",
    "l=[random.randint(1,10) for i in range(4)]\n",
    "print(\"Intial Random Weights : \",l)\n",
    "\n",
    "#truth table for NOR gate\n",
    "truth_table=[[-1,-1,-1,1],[-1,-1,1,1],[-1,1,-1,1],[-1,1,1,1],[1,-1,-1,1],[1,-1,1,1],[1,1,-1,1],[1,1,1,1]]\n",
    "\n",
    "#Desired output\n",
    "desired_output=[1,-1,-1,-1,-1,-1,-1,-1]\n",
    "\n",
    "#previous weight\n",
    "prev=[0,0,0,0,0,0,0,0]\n",
    "wt=l\n",
    "flag=0\n",
    "iterations=0\n",
    "while True:\n",
    "    iterations+=1\n",
    "    #Iterating over all the values of truth table\n",
    "    for i in range(0,8):\n",
    "        net=0\n",
    "        #Calculating Net (Dot product of weight vector and input vector)\n",
    "        for j in range(0,len(l)):\n",
    "            net=net+wt[j]*truth_table[i][j]\n",
    "        #computing sign of the values of net\n",
    "        if net>0:\n",
    "            sign=1\n",
    "        else:\n",
    "            sign=-1\n",
    "        #compairing the sign with desired\n",
    "        if sign==desired_output[i]:\n",
    "            flag+=1\n",
    "        else:\n",
    "            flag=0\n",
    "            x=desired_output[i]-sign\n",
    "            for k in range(0,len(truth_table[i])):\n",
    "                prev[k]=round(x*truth_table[i][k],1)\n",
    "            for k in range(0,len(truth_table[i])):\n",
    "                wt[k]=round(wt[k]+prev[k],1)\n",
    "    #if there is a repetition at max 8 times then we will break\n",
    "    if flag>=8:\n",
    "        break\n",
    "        \n",
    "print(\"NOR gate : \")\n",
    "print(\"Desired Output : \",desired_output)\n",
    "print(\"Weight Vector : \",wt)\n",
    "print(\"Iterations : \",iterations)\n",
    "print(\"Truth Table : \")\n",
    "for i in range(0,8):\n",
    "    result=np.dot(wt,truth_table[i])\n",
    "    if result>0:\n",
    "        result=1\n",
    "    else:\n",
    "        result=-1\n",
    "    print('x1 = '+str(truth_table[i][0])+ '  ||  x2 = ' +str(truth_table[i][1])+ '  ||  x3 = ' +str(truth_table[i][2]))"
   ]
  },
  {
   "cell_type": "code",
   "execution_count": null,
   "metadata": {},
   "outputs": [],
   "source": []
  }
 ],
 "metadata": {
  "kernelspec": {
   "display_name": "Python 3",
   "language": "python",
   "name": "python3"
  },
  "language_info": {
   "codemirror_mode": {
    "name": "ipython",
    "version": 3
   },
   "file_extension": ".py",
   "mimetype": "text/x-python",
   "name": "python",
   "nbconvert_exporter": "python",
   "pygments_lexer": "ipython3",
   "version": "3.8.5"
  }
 },
 "nbformat": 4,
 "nbformat_minor": 4
}
