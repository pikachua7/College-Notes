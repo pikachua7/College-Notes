{
 "cells": [
  {
   "cell_type": "code",
   "execution_count": 14,
   "metadata": {},
   "outputs": [],
   "source": [
    "from math import sqrt\n",
    "import numpy as np\n",
    "import matplotlib.pyplot as plt"
   ]
  },
  {
   "cell_type": "code",
   "execution_count": 15,
   "metadata": {},
   "outputs": [
    {
     "name": "stdout",
     "output_type": "stream",
     "text": [
      "1.3290173915275787\n"
     ]
    }
   ],
   "source": [
    "#finding euclidian distance-(distance between two vectors/rows)\n",
    "#r1=first vector #r2=second vector\n",
    "def euclid_distance(r1,r2):\n",
    "    dist=0.0\n",
    "    #calculation of sqrt((x1-x2)**2 + (y1-y2)**2)\n",
    "    for i in range(len(r1)-1):  #takes x and y coordiate\n",
    "        dist+=(r1[i]-r2[i])**2\n",
    "    return sqrt(dist) #returning sqrt of the distance\n",
    "\n",
    "#driver code\n",
    "print(euclid_distance([2.7810836,2.550537003,0],[1.465489372,2.362125076,0]))"
   ]
  },
  {
   "cell_type": "code",
   "execution_count": 16,
   "metadata": {},
   "outputs": [],
   "source": [
    "#dataset\n",
    "dataset=[[2.7810836,2.550537003,0],\n",
    "[1.465489372,2.362125076,0],\n",
    "[3.396561688,4.400293529,0],\n",
    "[1.38807019,1.850220317,0],\n",
    "[3.06407232,3.005305973,0],\n",
    "[7.627531214,2.759262235,1],\n",
    "[5.332441248,2.088626775,1],\n",
    "[6.922596716,1.77106367,1],\n",
    "[8.675418651,-0.242068655,1],\n",
    "[7.673756466,3.508563011,1]]"
   ]
  },
  {
   "cell_type": "code",
   "execution_count": 23,
   "metadata": {},
   "outputs": [
    {
     "name": "stdout",
     "output_type": "stream",
     "text": [
      "1.2189164\n",
      "2.534510628\n",
      "0.6034383120000002\n",
      "2.61192981\n",
      "0.9359276799999998\n",
      "3.6275312140000002\n",
      "1.3324412480000003\n",
      "2.922596716\n",
      "4.675418650999999\n",
      "3.6737564660000004\n"
     ]
    }
   ],
   "source": [
    "base_row=[4,6] #given base row to take a source\n",
    "k=3 #given count of neighbours\n",
    "#driver code\n",
    "for row in dataset:\n",
    "    dist=euclid_distance(base_row,row) #calculating distance from base_row to each row in dataset\n",
    "    print(dist)"
   ]
  },
  {
   "cell_type": "code",
   "execution_count": 24,
   "metadata": {},
   "outputs": [
    {
     "name": "stdout",
     "output_type": "stream",
     "text": [
      "[[1.38807019, 1.850220317, 0], [1.465489372, 2.362125076, 0], [2.7810836, 2.550537003, 0], [3.06407232, 3.005305973, 0], [3.396561688, 4.400293529, 0], [5.332441248, 2.088626775, 1], [6.922596716, 1.77106367, 1], [7.627531214, 2.759262235, 1], [7.673756466, 3.508563011, 1], [8.675418651, -0.242068655, 1]]\n"
     ]
    }
   ],
   "source": [
    "#getting neighbours\n",
    "def get_neighbours(dataset,base_row,k):\n",
    "    li=list()  #list with rows and distance\n",
    "    output_li=list() #list with only k sorted rows\n",
    "    #calculating distance from base_row to each_row\n",
    "    for row in dataset:\n",
    "        dist1=euclid_distance(base_row,row)\n",
    "        li.append([row,dist1])\n",
    "    li.sort()\n",
    "    #slicing till k neighbours\n",
    "    li=li[:k]\n",
    "    #return li\n",
    "    \n",
    "    #returning list of rows\n",
    "    for index in range(len(li)):\n",
    "        output_li.append(li[index][0])\n",
    "    return output_li\n",
    "\n",
    "#driver code\n",
    "print(get_neighbours(dataset,base_row,k))"
   ]
  },
  {
   "cell_type": "code",
   "execution_count": 25,
   "metadata": {},
   "outputs": [
    {
     "name": "stdout",
     "output_type": "stream",
     "text": [
      "Class is 1\n"
     ]
    }
   ],
   "source": [
    "#predicting the class of base_row\n",
    "def predict(dataset,base_row,k):\n",
    "    #getting the k rows \n",
    "    li=get_neighbours(dataset,base_row,k)\n",
    "    #getting the class of each row\n",
    "    li_count=[r[-1] for r in li]  \n",
    "    zeros,ones=0,0\n",
    "    for count in li_count:\n",
    "        if count==0:\n",
    "            zeros+=1\n",
    "        else:\n",
    "            ones+=1\n",
    "    if zeros>ones:\n",
    "        return \"Class is 0\"\n",
    "    else:\n",
    "        return \"Class is 1\"\n",
    "print(predict(dataset,base_row,k))"
   ]
  },
  {
   "cell_type": "code",
   "execution_count": 29,
   "metadata": {},
   "outputs": [
    {
     "data": {
      "image/png": "[encoded data removed]",
      "text/plain": [
       "<Figure size 432x288 with 1 Axes>"
      ]
     },
     "metadata": {
      "needs_background": "light"
     },
     "output_type": "display_data"
    }
   ],
   "source": [
    "#error\n",
    "\n",
    "new_li=np.arange(0.1,10,0.1)\n",
    "for i in new_li:\n",
    "    for j in new_li:\n",
    "        li1=get_neighbours([[i,j]],[0,0],k)\n",
    "        new=[r[-1] for r in li1]\n",
    "        for count in new:\n",
    "            if count==0:\n",
    "                plt.plot(i,j,'ro')\n",
    "            else:\n",
    "                plt.plot(i,j,'g^')\n",
    "plt.show()"
   ]
  },
  {
   "cell_type": "code",
   "execution_count": null,
   "metadata": {},
   "outputs": [],
   "source": []
  }
 ],
 "metadata": {
  "kernelspec": {
   "display_name": "Python 3",
   "language": "python",
   "name": "python3"
  },
  "language_info": {
   "codemirror_mode": {
    "name": "ipython",
    "version": 3
   },
   "file_extension": ".py",
   "mimetype": "text/x-python",
   "name": "python",
   "nbconvert_exporter": "python",
   "pygments_lexer": "ipython3",
   "version": "3.8.5"
  }
 },
 "nbformat": 4,
 "nbformat_minor": 4
}
