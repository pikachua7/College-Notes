{
 "cells": [
  {
   "cell_type": "code",
   "execution_count": 4,
   "metadata": {},
   "outputs": [],
   "source": [
    "A = [[1,2,3],[4,0,6],[7,8,9]]"
   ]
  },
  {
   "cell_type": "code",
   "execution_count": 5,
   "metadata": {},
   "outputs": [
    {
     "name": "stdout",
     "output_type": "stream",
     "text": [
      "[[1, 2, 3], [0, 4, 6], [7, 8, 9]]\n"
     ]
    }
   ],
   "source": [
    "from copy import deepcopy\n",
    "\n",
    "B=deepcopy(A)\n",
    "\n",
    "def move_left(A):\n",
    "    li=[]\n",
    "\n",
    "    #GETTING THE VALUE OF THE INDEX HAVING VALUES AS 0\n",
    "    for i in range(len(A)):\n",
    "        for j in range(len(A)):\n",
    "            if A[i][j] == 0 :\n",
    "                li.append(i)\n",
    "                li.append(j)\n",
    "\n",
    "    if li[1] - 1 < 0 :\n",
    "        return None\n",
    "\n",
    "    else:\n",
    "        r , c = li[0] , li[1]\n",
    "        B[r][c] = B[r][c-1]\n",
    "        B[r][c-1] = 0\n",
    "\n",
    "    return B\n",
    "\n",
    "ans = move_left(A)\n",
    "print(ans)\n"
   ]
  },
  {
   "cell_type": "code",
   "execution_count": 6,
   "metadata": {},
   "outputs": [
    {
     "name": "stdout",
     "output_type": "stream",
     "text": [
      "[[1, 2, 3], [4, 6, 0], [7, 8, 9]]\n"
     ]
    }
   ],
   "source": [
    "from copy import deepcopy\n",
    "\n",
    "#A = [[0,2,3],[4,5,6],[7,8,9]]\n",
    "\n",
    "B=deepcopy(A)\n",
    "\n",
    "def move_right(A):\n",
    "    li=[]\n",
    "\n",
    "    #GETTING THE VALUE OF THE INDEX HAVING VALUES AS 0\n",
    "    for i in range(len(A)):\n",
    "        for j in range(len(A)):\n",
    "            if A[i][j] == 0 :\n",
    "                li.append(i)\n",
    "                li.append(j)\n",
    "\n",
    "    if li[1] + 1 >= len(A) :\n",
    "        return None\n",
    "\n",
    "    else:\n",
    "        r , c = li[0] , li[1]\n",
    "        B[r][c] = B[r][c+1]\n",
    "        B[r][c+1] = 0\n",
    "\n",
    "    return B\n",
    "\n",
    "ans = move_right(A)\n",
    "print(ans)\n"
   ]
  },
  {
   "cell_type": "code",
   "execution_count": 7,
   "metadata": {},
   "outputs": [
    {
     "name": "stdout",
     "output_type": "stream",
     "text": [
      "[[1, 0, 3], [4, 2, 6], [7, 8, 9]]\n"
     ]
    }
   ],
   "source": [
    "from copy import deepcopy\n",
    "\n",
    "#A = [[1,2,3],[0,5,6],[7,8,9]]\n",
    "\n",
    "B=deepcopy(A)\n",
    "\n",
    "def move_up(A):\n",
    "    li=[]\n",
    "\n",
    "    #GETTING THE VALUE OF THE INDEX HAVING VALUES AS 0\n",
    "    for i in range(len(A)):\n",
    "        for j in range(len(A)):\n",
    "            if A[i][j] == 0 :\n",
    "                li.append(i)\n",
    "                li.append(j)\n",
    "\n",
    "    if li[0] - 1 < 0  :\n",
    "        return None\n",
    "\n",
    "    else:\n",
    "        r , c = li[0] , li[1]\n",
    "        B[r][c] = B[r-1][c]\n",
    "        B[r-1][c] = 0\n",
    "\n",
    "    return B\n",
    "\n",
    "ans = move_up(A)\n",
    "print(ans)\n"
   ]
  },
  {
   "cell_type": "code",
   "execution_count": 8,
   "metadata": {},
   "outputs": [
    {
     "name": "stdout",
     "output_type": "stream",
     "text": [
      "[[1, 2, 3], [4, 8, 6], [7, 0, 9]]\n"
     ]
    }
   ],
   "source": [
    "from copy import deepcopy\n",
    "\n",
    "#A = [[1,2,3],[0,5,6],[7,8,9]]\n",
    "\n",
    "B=deepcopy(A)\n",
    "\n",
    "def move_down(A):\n",
    "    li=[]\n",
    "\n",
    "    #GETTING THE VALUE OF THE INDEX HAVING VALUES AS 0\n",
    "    for i in range(len(A)):\n",
    "        for j in range(len(A)):\n",
    "            if A[i][j] == 0 :\n",
    "                li.append(i)\n",
    "                li.append(j)\n",
    "\n",
    "    if li[0] + 1 >= len(A)  :\n",
    "        return None\n",
    "\n",
    "    else:\n",
    "        r , c = li[0] , li[1]\n",
    "        B[r][c] = B[r+1][c]\n",
    "        B[r+1][c] = 0\n",
    "\n",
    "    return B\n",
    "\n",
    "ans = move_down(A)\n",
    "print(ans)\n"
   ]
  },
  {
   "cell_type": "code",
   "execution_count": null,
   "metadata": {},
   "outputs": [],
   "source": []
  }
 ],
 "metadata": {
  "kernelspec": {
   "display_name": "Python 3",
   "language": "python",
   "name": "python3"
  },
  "language_info": {
   "codemirror_mode": {
    "name": "ipython",
    "version": 3
   },
   "file_extension": ".py",
   "mimetype": "text/x-python",
   "name": "python",
   "nbconvert_exporter": "python",
   "pygments_lexer": "ipython3",
   "version": "3.8.5"
  }
 },
 "nbformat": 4,
 "nbformat_minor": 4
}
