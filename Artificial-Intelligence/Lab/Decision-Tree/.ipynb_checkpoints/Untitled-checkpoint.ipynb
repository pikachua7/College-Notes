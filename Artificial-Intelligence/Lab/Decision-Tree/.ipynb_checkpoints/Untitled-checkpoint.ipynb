{
 "cells": [
  {
   "cell_type": "code",
   "execution_count": 1,
   "metadata": {},
   "outputs": [],
   "source": [
    "import csv\n",
    "import math"
   ]
  },
  {
   "cell_type": "code",
   "execution_count": 2,
   "metadata": {},
   "outputs": [
    {
     "name": "stdout",
     "output_type": "stream",
     "text": [
      "['Day', 'Outlook', 'Temperature', 'Humidity', 'Wind', 'PlayTennis']\n",
      "['D1', 'Sunny', 'Hot', 'High', 'Weak', 'No']\n",
      "['D2', 'Sunny', 'Hot', 'High', 'Strong', 'No']\n",
      "['D3', 'Overcast', 'Hot', 'High', 'Weak', 'Yes']\n",
      "['D4', 'Rain', 'Mild', 'High', 'Weak', 'Yes']\n",
      "['D5', 'Rain', 'Cool', 'Normal', 'Weak', 'Yes']\n",
      "['D6', 'Rain', 'Cool', 'Normal', 'Strong', 'No']\n",
      "['D7', 'Overcast', 'Cool', 'Normal', 'Strong', 'Yes']\n",
      "['D8', 'Sunny', 'Mild', 'High', 'Weak', 'No']\n",
      "['D9', 'Sunny', 'Cool', 'Normal', 'Weak', 'Yes']\n",
      "['D10', 'Rain', 'Mild', 'Normal', 'Weak', 'Yes']\n",
      "['D11', 'Sunny', 'Mild', 'Normal', 'Strong', 'Yes']\n",
      "['D12', 'Overcast', 'Mild', 'High', 'Strong', 'Yes']\n",
      "['D13', 'Overcast', 'Hot', 'Normal', 'Weak', 'Yes']\n",
      "['D14', 'Rain', 'Mild', 'High', 'Strong', 'No']\n",
      "Entropy(Play Tennis) is  0.9709505944546686\n",
      "Entropy(high humidity) is  0.9852281360342516\n",
      "Entropy(normal humidity) is  0.5916727785823275\n",
      "Information Gain is 0.23506350096693168\n"
     ]
    }
   ],
   "source": [
    "with open('dataset.csv', 'r') as file:\n",
    "    yescount=0\n",
    "    nocount=0\n",
    "    highyescount=0\n",
    "    highnocount=0\n",
    "    normalyescount=0\n",
    "    normalnocount=0\n",
    "    reader = csv.reader(file)\n",
    "    for row in reader:\n",
    "        print(row)\n",
    "        if row[-1]=='Yes':\n",
    "            yescount=yescount+1      \n",
    "        else:\n",
    "            nocount=nocount+1\n",
    "        if row[-1]=='Yes' and row[-3]=='High':\n",
    "            highyescount=highyescount+1\n",
    "        elif row[-1]=='No' and row[-3]=='High':\n",
    "            highnocount=highnocount+1\n",
    "        elif row[-1]=='Yes' and row[-3]=='Normal':\n",
    "            normalyescount=normalyescount+1\n",
    "        elif row[-1]=='No' and row[-3]=='Normal':\n",
    "            normalnocount=normalnocount+1\n",
    "    total=yescount+nocount\n",
    "    logyes=yescount/total\n",
    "    logno=nocount/total\n",
    "    entropy1=(-(logyes)*(math.log2(logyes)))-((logno)*(math.log2(logno)))\n",
    "    print('Entropy(Play Tennis) is ',entropy1)\n",
    "    highcount=highyescount+highnocount\n",
    "    normalcount=normalyescount+normalnocount\n",
    "    entropy2=(-(highyescount/highcount)*(math.log2(highyescount/highcount)))-((highnocount/highcount)*(math.log2(highnocount/highcount)))\n",
    "    print('Entropy(high humidity) is ',entropy2)\n",
    "    entropy3=(-(normalyescount/normalcount)*(math.log2(normalyescount/normalcount)))-((normalnocount/normalcount)*(math.log2(normalnocount/normalcount)))\n",
    "    print('Entropy(normal humidity) is ',entropy3)\n",
    "    IG=entropy1-((highcount/total)*entropy2)-((normalcount/total)*entropy3)\n",
    "    print('Information Gain is',IG)"
   ]
  },
  {
   "cell_type": "code",
   "execution_count": null,
   "metadata": {},
   "outputs": [],
   "source": []
  }
 ],
 "metadata": {
  "kernelspec": {
   "display_name": "Python 3",
   "language": "python",
   "name": "python3"
  },
  "language_info": {
   "codemirror_mode": {
    "name": "ipython",
    "version": 3
   },
   "file_extension": ".py",
   "mimetype": "text/x-python",
   "name": "python",
   "nbconvert_exporter": "python",
   "pygments_lexer": "ipython3",
   "version": "3.8.5"
  }
 },
 "nbformat": 4,
 "nbformat_minor": 4
}
