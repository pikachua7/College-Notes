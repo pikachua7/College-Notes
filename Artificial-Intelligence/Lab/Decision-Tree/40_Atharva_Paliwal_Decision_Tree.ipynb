{
 "cells": [
  {
   "cell_type": "code",
   "execution_count": 29,
   "metadata": {},
   "outputs": [],
   "source": [
    "import pandas as pd\n",
    "import math"
   ]
  },
  {
   "cell_type": "code",
   "execution_count": 30,
   "metadata": {},
   "outputs": [],
   "source": [
    "dataset = pd.read_csv(\"dataset.csv\")"
   ]
  },
  {
   "cell_type": "code",
   "execution_count": 43,
   "metadata": {},
   "outputs": [],
   "source": [
    "def log(x):\n",
    "    if x == 0:\n",
    "        return 0\n",
    "    return math.log(x,2)"
   ]
  },
  {
   "cell_type": "code",
   "execution_count": 32,
   "metadata": {},
   "outputs": [],
   "source": [
    "#calculating entropy\n",
    "def entropy(prob_arr):\n",
    "    entropy = 0\n",
    "    #prob_arr contains count of yes and no\n",
    "    for i in range(len(prob_arr)):\n",
    "        entropy = entropy + prob_arr[i]*(log(prob_arr[i]))\n",
    "    return -(entropy)"
   ]
  },
  {
   "cell_type": "code",
   "execution_count": 33,
   "metadata": {},
   "outputs": [
    {
     "name": "stdout",
     "output_type": "stream",
     "text": [
      "['No', 'No', 'Yes', 'Yes', 'Yes', 'No', 'Yes', 'No', 'Yes', 'Yes', 'Yes', 'Yes', 'Yes', 'No']\n",
      "9\n",
      "5\n"
     ]
    }
   ],
   "source": [
    "#PlayTennis column[Yes,No]\n",
    "PlayTennis=[]\n",
    "\n",
    "#count of yes,no in dataset\n",
    "yes_count = 0\n",
    "no_count = 0\n",
    "\n",
    "#length of dataset and appending Yes or No\n",
    "for i in range(14):\n",
    "    PlayTennis.append(dataset.PlayTennis[i])\n",
    "    if dataset.PlayTennis[i] == \"Yes\":\n",
    "        yes_count = yes_count + 1\n",
    "    else:\n",
    "        no_count = no_count + 1\n",
    "print(PlayTennis)\n",
    "print(yes_count)\n",
    "print(no_count)"
   ]
  },
  {
   "cell_type": "code",
   "execution_count": 34,
   "metadata": {},
   "outputs": [
    {
     "name": "stdout",
     "output_type": "stream",
     "text": [
      "Entropy of PlayTennis =>  0.9402859586706309\n"
     ]
    }
   ],
   "source": [
    "prob_yes = yes_count/14 #9/14\n",
    "prob_no = no_count/14 #5/14\n",
    "\n",
    "prob_arr = [prob_yes, prob_no]\n",
    "entrophy_PlayTennis =  entropy(prob_arr)\n",
    "#getting entropy\n",
    "print(\"Entropy of PlayTennis => \",entropy(prob_arr))"
   ]
  },
  {
   "cell_type": "code",
   "execution_count": 35,
   "metadata": {},
   "outputs": [
    {
     "name": "stdout",
     "output_type": "stream",
     "text": [
      "Entropy of High =>  0.9852281360342516\n",
      "Entropy of Normal =>  0.5916727785823275\n",
      "Entropy of Humidity =>  0.7884504573082896\n"
     ]
    }
   ],
   "source": [
    "#humidity array [High,Normal]\n",
    "Humidity = []\n",
    "\n",
    "#2 types of humidity =>high,normal\n",
    "high_Humidity = 0\n",
    "normal_Humidity = 0\n",
    "\n",
    "#count of high,normal with yes,no respectively\n",
    "high_yes = 0\n",
    "high_no = 0\n",
    "normal_yes = 0\n",
    "normal_no = 0\n",
    "\n",
    "for i in range(14):\n",
    "    #High Humidity => Yes,No\n",
    "    Humidity.append(dataset.Humidity[i])\n",
    "    if dataset.Humidity[i] == \"High\":\n",
    "        high_Humidity = high_Humidity + 1\n",
    "        if dataset.PlayTennis[i] == \"Yes\":\n",
    "            high_yes = high_yes + 1\n",
    "        else:\n",
    "            high_no = high_no + 1\n",
    "    #Normal Humidity => Yes,No\n",
    "    else:\n",
    "        normal_Humidity = normal_Humidity + 1\n",
    "        if dataset.PlayTennis[i] == \"Yes\":\n",
    "            normal_yes = normal_yes + 1\n",
    "        else:\n",
    "            normal_no = normal_no + 1\n",
    "\n",
    "#probability of high humidity =>Yes/No\n",
    "prob_high_yes = high_yes/high_Humidity #0.42857142857142855\n",
    "prob_high_no =  high_no/high_Humidity  #0.5714285714285714\n",
    "#print(prob_high_yes,prob_high_no)\n",
    "\n",
    "#probability of normal humidity =>Yes/No\n",
    "prob_normal_yes = normal_yes/normal_Humidity #0.8571428571428571\n",
    "prob_normal_no = normal_no/normal_Humidity #0.14285714285714285\n",
    "#print(prob_normal_yes,prob_normal_no)\n",
    "\n",
    "#list of yes,no in high and normal\n",
    "prob_arr_high = [prob_high_yes,prob_high_no] #[0.42857142857142855, 0.5714285714285714]\n",
    "prob_arr_nor = [prob_normal_yes, prob_normal_no] #[0.8571428571428571, 0.14285714285714285]\n",
    "#print(prob_arr_high,prob_arr_nor)\n",
    "\n",
    "#calculating entropy of high , normal humidity\n",
    "print(\"Entropy of High => \",entropy(prob_arr_high))\n",
    "print(\"Entropy of Normal => \",entropy(prob_arr_nor))\n",
    "\n",
    "prob_high = high_Humidity/14\n",
    "prob_nor = normal_Humidity/14\n",
    "entrophy_Humidity = prob_high*entropy(prob_arr_high) + prob_nor*entropy(prob_arr_nor)\n",
    "\n",
    "print(\"Entropy of Humidity => \",entrophy_Humidity)"
   ]
  },
  {
   "cell_type": "code",
   "execution_count": 36,
   "metadata": {},
   "outputs": [
    {
     "name": "stdout",
     "output_type": "stream",
     "text": [
      "Information Gain =>  0.15183550136234136\n"
     ]
    }
   ],
   "source": [
    "#information gain\n",
    "def information_gain(e1, e2):\n",
    "    return e1 - e2\n",
    "\n",
    "print(\"Information Gain => \",information_gain(entrophy_PlayTennis,entrophy_Humidity))"
   ]
  },
  {
   "cell_type": "code",
   "execution_count": null,
   "metadata": {},
   "outputs": [],
   "source": []
  }
 ],
 "metadata": {
  "kernelspec": {
   "display_name": "Python 3",
   "language": "python",
   "name": "python3"
  },
  "language_info": {
   "codemirror_mode": {
    "name": "ipython",
    "version": 3
   },
   "file_extension": ".py",
   "mimetype": "text/x-python",
   "name": "python",
   "nbconvert_exporter": "python",
   "pygments_lexer": "ipython3",
   "version": "3.8.5"
  }
 },
 "nbformat": 4,
 "nbformat_minor": 4
}
