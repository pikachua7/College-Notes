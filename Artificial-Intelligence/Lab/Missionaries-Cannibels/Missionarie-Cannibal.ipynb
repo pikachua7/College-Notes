{
 "cells": [
  {
   "cell_type": "code",
   "execution_count": null,
   "metadata": {},
   "outputs": [],
   "source": [
    "from copy import deepcopy"
   ]
  },
  {
   "cell_type": "code",
   "execution_count": null,
   "metadata": {},
   "outputs": [],
   "source": [
    "#M,C,B\n",
    "def M(li1):\n",
    "    li=deepcopy(li1)\n",
    "    #boat is on other side and all missionaries on other side.\n",
    "    if li[2]==0 and li[0]==3:\n",
    "        return None\n",
    "    #boat and all missionaries on other side and more than one Cannibals on other side.\n",
    "    elif li[2]==0 and (li[0]==0 and li[1]>1):\n",
    "        return None\n",
    "    #if count of missionaries is less than cannibels\n",
    "    elif li[2]==0 and (3-li[0]-1<3-li[1]):\n",
    "        return None\n",
    "    #if one missionarie is taken to other side\n",
    "    elif li[2]==0:\n",
    "        li[0]+=1\n",
    "        li[2]=1\n",
    "    elif li[0]==0:\n",
    "        return None\n",
    "    elif (li[0]==0 and li[1]>1):\n",
    "        return None\n",
    "    elif (3-li[0]-1<3-li[1]):\n",
    "        return None\n",
    "    else:\n",
    "        li[0]+=1\n",
    "        li[2]=1\n",
    "        \n",
    "        "
   ]
  },
  {
   "cell_type": "code",
   "execution_count": null,
   "metadata": {},
   "outputs": [],
   "source": []
  },
  {
   "cell_type": "code",
   "execution_count": null,
   "metadata": {},
   "outputs": [],
   "source": []
  },
  {
   "cell_type": "code",
   "execution_count": null,
   "metadata": {},
   "outputs": [],
   "source": []
  },
  {
   "cell_type": "code",
   "execution_count": null,
   "metadata": {},
   "outputs": [],
   "source": []
  },
  {
   "cell_type": "code",
   "execution_count": null,
   "metadata": {},
   "outputs": [],
   "source": []
  },
  {
   "cell_type": "code",
   "execution_count": null,
   "metadata": {},
   "outputs": [],
   "source": []
  }
 ],
 "metadata": {
  "kernelspec": {
   "display_name": "Python 3",
   "language": "python",
   "name": "python3"
  },
  "language_info": {
   "codemirror_mode": {
    "name": "ipython",
    "version": 3
   },
   "file_extension": ".py",
   "mimetype": "text/x-python",
   "name": "python",
   "nbconvert_exporter": "python",
   "pygments_lexer": "ipython3",
   "version": "3.8.5"
  }
 },
 "nbformat": 4,
 "nbformat_minor": 4
}
