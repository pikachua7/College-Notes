{
 "cells": [
  {
   "cell_type": "code",
   "execution_count": 1,
   "metadata": {},
   "outputs": [],
   "source": [
    "from copy import deepcopy\n",
    "import heapq"
   ]
  },
  {
   "cell_type": "code",
   "execution_count": 13,
   "metadata": {},
   "outputs": [
    {
     "name": "stdout",
     "output_type": "stream",
     "text": [
      "[2, 2, 0]\n"
     ]
    }
   ],
   "source": [
    "def missionarie(li):\n",
    "    if(li[2]==1 and (li[0]<1)):\n",
    "        return None\n",
    "    elif(li[2]==0 and (li[0]>2)):\n",
    "        return None\n",
    "    else:\n",
    "        st = deepcopy(li)\n",
    "        if(st[2]==0):\n",
    "            st[0]=st[0]+1\n",
    "            st[2]=1\n",
    "        else:\n",
    "            st[0]=st[0]-1\n",
    "            st[2]=0\n",
    "    if(st[0]!=0 and st[0]<st[1]):\n",
    "        return None\n",
    "    if((st[0]!=0 and st[0]!=3) and st[0]!=st[1]):\n",
    "        return None\n",
    "    return st\n",
    "\n",
    "#driver code\n",
    "print(missionarie([3,2,2]))"
   ]
  },
  {
   "cell_type": "code",
   "execution_count": 14,
   "metadata": {},
   "outputs": [
    {
     "name": "stdout",
     "output_type": "stream",
     "text": [
      "[1, 1, 0]\n"
     ]
    }
   ],
   "source": [
    "def cannibal(li):\n",
    "    if(li[2]==1 and (li[1]<1)):\n",
    "        return None\n",
    "    elif(li[2]==0 and (li[1]>2)):\n",
    "        return None\n",
    "    else:\n",
    "        st = deepcopy(li)\n",
    "        if(st[2]==0):\n",
    "            st[1]=st[1]+1\n",
    "            st[2]=1\n",
    "        else:\n",
    "            st[1]=st[1]-1\n",
    "            st[2]=0\n",
    "    if(st[0]!=0 and st[0]<st[1]):\n",
    "        return None   \n",
    "    if((st[0]!=0 and st[0]!=3) and st[0]!=st[1]):\n",
    "        return None\n",
    "    return st\n",
    "\n",
    "#driver code\n",
    "print(cannibal([1,2,2]))"
   ]
  },
  {
   "cell_type": "code",
   "execution_count": 4,
   "metadata": {},
   "outputs": [
    {
     "name": "stdout",
     "output_type": "stream",
     "text": [
      "[0, 1, 0]\n"
     ]
    }
   ],
   "source": [
    "def missionarie_missionarie(li):\n",
    "    if(li[2]==1 and (li[0]<2)):\n",
    "        return None\n",
    "    elif(li[2]==0 and (li[0]>1)):\n",
    "        return None\n",
    "    else:\n",
    "        st = deepcopy(li)\n",
    "        if(st[2]==0):\n",
    "            st[0]=st[0]+2\n",
    "            st[2]=1\n",
    "        else:\n",
    "            st[0]=st[0]-2\n",
    "            st[2]=0\n",
    "    if(st[0]!=0 and st[0]<st[1]):\n",
    "        return None\n",
    "    if((st[0]!=0 and st[0]!=3) and st[0]!=st[1]):\n",
    "        return None\n",
    "    return st\n",
    "\n",
    "#driver code\n",
    "print(missionarie_missionarie([2,1,1]))"
   ]
  },
  {
   "cell_type": "code",
   "execution_count": 10,
   "metadata": {},
   "outputs": [
    {
     "name": "stdout",
     "output_type": "stream",
     "text": [
      "[0, 1, 0]\n"
     ]
    }
   ],
   "source": [
    "def missionarie_cannibal(li):\n",
    "    if(li[2]==1 and (li[0]<1 or li[1]<1)):\n",
    "        return None\n",
    "    elif(li[2]==0 and (li[0]==3 or li[1]==3)):\n",
    "        return None\n",
    "    else:\n",
    "        st = deepcopy(li)\n",
    "        if(st[2]==0):\n",
    "            st[1]=st[1]+1\n",
    "            st[0]=st[0]+1\n",
    "            st[2]=1\n",
    "        else:\n",
    "            st[1]=st[1]-1\n",
    "            st[0]=st[0]-1\n",
    "            st[2]=0\n",
    "    if(st[0]!=0 and st[0]<st[1]):\n",
    "        return None\n",
    "    if((st[0]!=0 and st[0]!=3) and st[0]!=st[1]):\n",
    "        return None\n",
    "    return st\n",
    "\n",
    "#driver code\n",
    "print(missionarie_cannibal([1,2,1]))"
   ]
  },
  {
   "cell_type": "code",
   "execution_count": 7,
   "metadata": {},
   "outputs": [
    {
     "name": "stdout",
     "output_type": "stream",
     "text": [
      "[3, 3, 1]\n"
     ]
    }
   ],
   "source": [
    "def cannibal_cannibal(li):\n",
    "    if(li[2]==1 and (li[1]<2)):\n",
    "        return None\n",
    "    elif(li[2]==0 and (li[1]>1)):\n",
    "        return None\n",
    "    else:\n",
    "        st = deepcopy(li)\n",
    "        if(st[2]==0):\n",
    "            st[1]=st[1]+2\n",
    "            st[2]=1\n",
    "        else:\n",
    "            st[1]=st[1]-2\n",
    "            st[2]=0\n",
    "    if(st[0]!=0 and st[0]<st[1]):\n",
    "        return None   \n",
    "    if((st[0]!=0 and st[0]!=3) and st[0]!=st[1]):\n",
    "        return None\n",
    "    return st\n",
    "\n",
    "print(cannibal_cannibal([3,1,0]))"
   ]
  },
  {
   "cell_type": "code",
   "execution_count": null,
   "metadata": {},
   "outputs": [],
   "source": []
  }
 ],
 "metadata": {
  "kernelspec": {
   "display_name": "Python 3",
   "language": "python",
   "name": "python3"
  },
  "language_info": {
   "codemirror_mode": {
    "name": "ipython",
    "version": 3
   },
   "file_extension": ".py",
   "mimetype": "text/x-python",
   "name": "python",
   "nbconvert_exporter": "python",
   "pygments_lexer": "ipython3",
   "version": "3.8.5"
  }
 },
 "nbformat": 4,
 "nbformat_minor": 4
}
