{
 "cells": [
  {
   "cell_type": "markdown",
   "metadata": {},
   "source": [
    "## 3 Water Jug Problem"
   ]
  },
  {
   "cell_type": "code",
   "execution_count": 2,
   "metadata": {},
   "outputs": [],
   "source": [
    "from copy import deepcopy"
   ]
  },
  {
   "cell_type": "code",
   "execution_count": 3,
   "metadata": {},
   "outputs": [
    {
     "data": {
      "text/plain": [
       "[1, 5, 2]"
      ]
     },
     "execution_count": 3,
     "metadata": {},
     "output_type": "execute_result"
    }
   ],
   "source": [
    "#A=8 B=5 C=3\n",
    "def pour_water_A_to_B(X):\n",
    "    Y = deepcopy(X)\n",
    "    capacity_left = 5 - Y[1]\n",
    "    if(capacity_left>=Y[0]):\n",
    "        Y[1]+=Y[0]\n",
    "        Y[0]=0\n",
    "    else:\n",
    "        Y[0]=Y[0]-capacity_left\n",
    "        Y[1]=5\n",
    "    return Y\n",
    "\n",
    "#driver code\n",
    "start=[5,1,2]  #[A,B,C]\n",
    "pour_water_A_to_B(start)"
   ]
  },
  {
   "cell_type": "code",
   "execution_count": 4,
   "metadata": {},
   "outputs": [
    {
     "data": {
      "text/plain": [
       "[4, 2, 3]"
      ]
     },
     "execution_count": 4,
     "metadata": {},
     "output_type": "execute_result"
    }
   ],
   "source": [
    "def pour_water_A_to_C(X):\n",
    "    Y = deepcopy(X)\n",
    "    capacity_left = 3 - Y[2]\n",
    "    if(capacity_left>=Y[0]):\n",
    "        Y[2]+=Y[0]\n",
    "        Y[0]=0\n",
    "    else:\n",
    "        Y[0]=Y[0]-capacity_left\n",
    "        Y[2]=3\n",
    "    return Y\n",
    "\n",
    "#driver code\n",
    "start=[5,2,2]\n",
    "pour_water_A_to_C(start)"
   ]
  },
  {
   "cell_type": "code",
   "execution_count": 5,
   "metadata": {},
   "outputs": [
    {
     "data": {
      "text/plain": [
       "[8, 4, 2]"
      ]
     },
     "execution_count": 5,
     "metadata": {},
     "output_type": "execute_result"
    }
   ],
   "source": [
    "def pour_water_B_to_A(X):\n",
    "    Y = deepcopy(X)\n",
    "    capacity_left = 8 - Y[0]\n",
    "    if(capacity_left>=Y[1]):\n",
    "        Y[0]+=Y[1]\n",
    "        Y[1]=0\n",
    "    else:\n",
    "        Y[1]=Y[1]-capacity_left\n",
    "        Y[0]=8\n",
    "    return Y\n",
    "\n",
    "#driver code\n",
    "start=[7,5,2]\n",
    "pour_water_B_to_A(start)"
   ]
  },
  {
   "cell_type": "code",
   "execution_count": 6,
   "metadata": {},
   "outputs": [
    {
     "data": {
      "text/plain": [
       "[8, 4, 3]"
      ]
     },
     "execution_count": 6,
     "metadata": {},
     "output_type": "execute_result"
    }
   ],
   "source": [
    "def pour_water_B_to_C(X):\n",
    "    Y = deepcopy(X)\n",
    "    capacity_left = 3 - Y[2]\n",
    "    if(capacity_left>=Y[1]):\n",
    "        Y[2]+=Y[1]\n",
    "        Y[1]=0\n",
    "    else:\n",
    "        Y[1]=Y[1]-capacity_left\n",
    "        Y[2]=3\n",
    "    return Y\n",
    "\n",
    "#driver code\n",
    "start=[8,5,2]\n",
    "pour_water_B_to_C(start)"
   ]
  },
  {
   "cell_type": "code",
   "execution_count": 7,
   "metadata": {},
   "outputs": [
    {
     "data": {
      "text/plain": [
       "[5, 5, 0]"
      ]
     },
     "execution_count": 7,
     "metadata": {},
     "output_type": "execute_result"
    }
   ],
   "source": [
    "def pour_water_C_to_A(X):\n",
    "    Y = deepcopy(X)\n",
    "    capacity_left = 8 - Y[0]\n",
    "    if(capacity_left>=Y[2]):\n",
    "        Y[0]+=Y[2]\n",
    "        Y[2]=0\n",
    "    else:\n",
    "        Y[2]=Y[0]-capacity_left\n",
    "        Y[0]=8\n",
    "    return Y\n",
    "\n",
    "#driver code\n",
    "start=[3,5,2]\n",
    "pour_water_C_to_A(start)"
   ]
  },
  {
   "cell_type": "code",
   "execution_count": 8,
   "metadata": {},
   "outputs": [
    {
     "data": {
      "text/plain": [
       "[2, 4, 0]"
      ]
     },
     "execution_count": 8,
     "metadata": {},
     "output_type": "execute_result"
    }
   ],
   "source": [
    "def pour_water_C_to_B(X):\n",
    "    Y = deepcopy(X)\n",
    "    capacity_left = 5 - Y[1]\n",
    "    if(capacity_left>=Y[2]):\n",
    "        Y[1]+=Y[2]\n",
    "        Y[2]=0\n",
    "    else:\n",
    "        Y[2]=Y[1]-capacity_left\n",
    "        Y[1]=5\n",
    "    return Y\n",
    "\n",
    "#driver code\n",
    "start=[2,3,1]\n",
    "pour_water_C_to_B(start)"
   ]
  },
  {
   "cell_type": "code",
   "execution_count": 9,
   "metadata": {},
   "outputs": [],
   "source": [
    "def find_path(parents):\n",
    "    path=[]\n",
    "    path.append(parents[len(parents)-1][1])\n",
    "    path.append(parents[len(parents)-1][0])\n",
    "    x=parents[len(parents)-1][0]\n",
    "    for parent in range(len(parents)-2,-1,-1):\n",
    "        if parents[parent][1]==x:\n",
    "            x=parents[parent][0]\n",
    "            path.append(x)\n",
    "    path.reverse()\n",
    "    return path"
   ]
  },
  {
   "cell_type": "code",
   "execution_count": 10,
   "metadata": {},
   "outputs": [
    {
     "name": "stdout",
     "output_type": "stream",
     "text": [
      "1\n",
      "node-> [8, 0, 0]\n",
      "2\n",
      "node-> [3, 5, 0]\n",
      "3\n",
      "node-> [5, 0, 3]\n",
      "4\n",
      "node-> [0, 5, 3]\n",
      "5\n",
      "node-> [3, 2, 3]\n",
      "6\n",
      "node-> [5, 3, 0]\n",
      "7\n",
      "node-> [0, 5, 5]\n",
      "8\n",
      "node-> [6, 2, 0]\n",
      "9\n",
      "node-> [2, 3, 3]\n",
      "10\n",
      "node-> [2, 5, 3]\n",
      "11\n",
      "node-> [5, 0, 5]\n",
      "12\n",
      "node-> [0, 7, 3]\n",
      "13\n",
      "node-> [5, 5, 0]\n",
      "14\n",
      "node-> [6, 0, 2]\n",
      "15\n",
      "node-> [2, 5, 1]\n",
      "16\n",
      "node-> [7, 0, 3]\n",
      "17\n",
      "node-> [2, 5, 5]\n",
      "18\n",
      "node-> [5, 2, 3]\n",
      "19\n",
      "node-> [8, 0, 2]\n",
      "20\n",
      "node-> [3, 7, 0]\n",
      "21\n",
      "node-> [0, 5, 9]\n",
      "22\n",
      "node-> [8, 2, 0]\n",
      "23\n",
      "node-> [1, 5, 2]\n",
      "24\n",
      "node-> [7, 0, 1]\n",
      "25\n",
      "node-> [8, 0, 6]\n",
      "26\n",
      "node-> [7, 3, 0]\n",
      "27\n",
      "node-> [4, 5, 3]\n",
      "28\n",
      "node-> [7, 0, 5]\n",
      "29\n",
      "node-> [2, 7, 3]\n",
      "30\n",
      "node-> [7, 5, 0]\n",
      "31\n",
      "node-> [3, 5, 2]\n",
      "32\n",
      "node-> [8, 0, 8]\n",
      "33\n",
      "node-> [3, 4, 3]\n",
      "34\n",
      "node-> [3, 5, 9]\n",
      "35\n",
      "node-> [6, 5, 3]\n",
      "36\n",
      "node-> [5, 0, 9]\n",
      "37\n",
      "node-> [0, 11, 3]\n",
      "38\n",
      "node-> [8, 5, -8]\n",
      "39\n",
      "node-> [1, 4, 3]\n"
     ]
    },
    {
     "data": {
      "text/plain": [
       "[[8, 0, 0],\n",
       " [3, 5, 0],\n",
       " [3, 2, 3],\n",
       " [6, 2, 0],\n",
       " [6, 0, 2],\n",
       " [1, 5, 2],\n",
       " [1, 4, 3],\n",
       " [4, 4, 0]]"
      ]
     },
     "execution_count": 10,
     "metadata": {},
     "output_type": "execute_result"
    }
   ],
   "source": [
    "def bfs_goal_search(start,goal):\n",
    "    explored=[]\n",
    "    queue=[start]\n",
    "    child=[]\n",
    "    parent=[]\n",
    "    if(start==goal):\n",
    "        return print(\"Start is goal\")\n",
    "    count=0\n",
    "    while queue:\n",
    "        count+=1\n",
    "        print(count)\n",
    "        node = queue.pop(0)\n",
    "        print('node->',node)\n",
    "        if node not in explored:\n",
    "            explored.append(node)\n",
    "        \n",
    "        #A->B\n",
    "        child = pour_water_A_to_B(node)\n",
    "        if child!=None:\n",
    "            if child not in queue and child not in explored:\n",
    "                queue.append(child)\n",
    "                parent.append([node,child])\n",
    "            if child == goal:\n",
    "                return find_path(parent)\n",
    "                #return child\n",
    "        \n",
    "        #A->C\n",
    "        child = pour_water_A_to_C(node)\n",
    "        if child!=None:\n",
    "            if child not in queue and child not in explored:\n",
    "                queue.append(child)\n",
    "                parent.append([node,child])\n",
    "            if child == goal:\n",
    "                return find_path(parent)\n",
    "                #return child\n",
    "        \n",
    "        #B->A\n",
    "        child = pour_water_B_to_A(node)\n",
    "        if child!=None:\n",
    "            if child not in queue and child not in explored:\n",
    "                queue.append(child)\n",
    "                parent.append([node,child])\n",
    "            if child == goal:\n",
    "                return find_path(parent)\n",
    "                #return child\n",
    "        \n",
    "        #B->C\n",
    "        child = pour_water_B_to_C(node)\n",
    "        if child!=None:\n",
    "            if child not in queue and child not in explored:\n",
    "                queue.append(child)\n",
    "                parent.append([node,child])\n",
    "            if child == goal:\n",
    "                return find_path(parent)\n",
    "                #return child\n",
    "        \n",
    "        #C->A\n",
    "        child = pour_water_C_to_A(node)\n",
    "        if child!=None:\n",
    "            if child not in queue and child not in explored:\n",
    "                queue.append(child)\n",
    "                parent.append([node,child])\n",
    "            if child == goal:\n",
    "                return find_path(parent)\n",
    "                #return child\n",
    "        #C->B\n",
    "        child = pour_water_C_to_B(node)\n",
    "        if child!=None:\n",
    "            if child not in queue and child not in explored:\n",
    "                queue.append(child)\n",
    "                parent.append([node,child])\n",
    "            if child == goal:\n",
    "                return find_path(parent)\n",
    "                #return child\n",
    "            \n",
    "            \n",
    "start1=[8,0,0]\n",
    "goal1=[4,4,0]\n",
    "bfs_goal_search(start1,goal1)"
   ]
  },
  {
   "cell_type": "code",
   "execution_count": null,
   "metadata": {},
   "outputs": [],
   "source": []
  }
 ],
 "metadata": {
  "kernelspec": {
   "display_name": "Python 3",
   "language": "python",
   "name": "python3"
  },
  "language_info": {
   "codemirror_mode": {
    "name": "ipython",
    "version": 3
   },
   "file_extension": ".py",
   "mimetype": "text/x-python",
   "name": "python",
   "nbconvert_exporter": "python",
   "pygments_lexer": "ipython3",
   "version": "3.8.5"
  }
 },
 "nbformat": 4,
 "nbformat_minor": 2
}
