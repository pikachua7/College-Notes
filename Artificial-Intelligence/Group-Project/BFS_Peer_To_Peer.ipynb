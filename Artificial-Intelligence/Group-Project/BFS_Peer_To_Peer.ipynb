{
 "cells": [
  {
   "cell_type": "code",
   "execution_count": 17,
   "metadata": {},
   "outputs": [],
   "source": [
    "import networkx as nx\n",
    "import matplotlib.pyplot as plt"
   ]
  },
  {
   "cell_type": "code",
   "execution_count": 18,
   "metadata": {},
   "outputs": [],
   "source": [
    "#BFS traversal \n",
    "def BFS(G, source, pos): \n",
    "    visited = [False]*(len(G.nodes()))\n",
    "    queue = [] #a queue for BFS traversal\n",
    "    queue.append(source)\n",
    "    visited[source] = True\n",
    "    while queue:\n",
    "        curr_node = queue.pop(0)\n",
    "        for i in G[curr_node]:  #iterates through all the possible vertices adjacent to the curr_node\n",
    "            if visited[i] == False:\n",
    "                queue.append(i)\n",
    "                visited[i] = True\n",
    "                nx.draw_networkx_edges(G, pos, edgelist = [(curr_node,i)], width = 2.5, alpha = 0.6, edge_color = 'r')\n",
    "    return"
   ]
  },
  {
   "cell_type": "code",
   "execution_count": 19,
   "metadata": {},
   "outputs": [],
   "source": [
    "#takes input from the file and creates a weighted graph\n",
    "def CreateGraph():\n",
    "    G = nx.DiGraph()\n",
    "    f = open('input.txt')\n",
    "    n = int(f.readline())\n",
    "    wtMatrix = []\n",
    "    for i in range(n):\n",
    "        list1 = list(map(int, (f.readline()).split()))\n",
    "        wtMatrix.append(list1)\n",
    "    source = int(f.readline()) #source vertex from where BFS has to start\n",
    "    #Adds egdes along with their weights to the graph \n",
    "    for i in range(n):\n",
    "        for j in range(n):\n",
    "            if wtMatrix[i][j] > 0:\n",
    "                G.add_edge(i, j, length = wtMatrix[i][j]) \n",
    "    return G, source"
   ]
  },
  {
   "cell_type": "code",
   "execution_count": 20,
   "metadata": {},
   "outputs": [],
   "source": [
    "def DrawGraph(G):\n",
    "    pos = nx.spring_layout(G)\n",
    "    nx.draw(G, pos, with_labels = True)  #with_labels=true is to show the node number in the output graph\n",
    "    edge_labels = dict([((u,v,), d['length']) for u, v, d in G.edges(data = True)])\n",
    "    nx.draw_networkx_edge_labels(G, pos, edge_labels = edge_labels, label_pos = 0.3, font_size = 11) #prints weight on all the edges\n",
    "    return pos"
   ]
  },
  {
   "cell_type": "code",
   "execution_count": 21,
   "metadata": {},
   "outputs": [],
   "source": [
    "#Input\n",
    "# 5\n",
    "# 0 1 1 0 0\n",
    "# 0 0 1 1 0\n",
    "# 0 0 0 1 0\n",
    "# 0 0 0 0 1\n",
    "# 0 0 0 0 0\n",
    "# 0"
   ]
  },
  {
   "cell_type": "code",
   "execution_count": 22,
   "metadata": {},
   "outputs": [
    {
     "data": {
      "image/png": "[encoded data removed]",
      "text/plain": [
       "<Figure size 432x288 with 1 Axes>"
      ]
     },
     "metadata": {},
     "output_type": "display_data"
    }
   ],
   "source": [
    "#driver code\n",
    "if __name__== \"__main__\":\n",
    "    G,source = CreateGraph()\n",
    "    pos = DrawGraph(G)\n",
    "    BFS(G, source, pos)\n",
    "    plt.show()"
   ]
  },
  {
   "cell_type": "code",
   "execution_count": null,
   "metadata": {},
   "outputs": [],
   "source": []
  }
 ],
 "metadata": {
  "kernelspec": {
   "display_name": "Python 3",
   "language": "python",
   "name": "python3"
  },
  "language_info": {
   "codemirror_mode": {
    "name": "ipython",
    "version": 3
   },
   "file_extension": ".py",
   "mimetype": "text/x-python",
   "name": "python",
   "nbconvert_exporter": "python",
   "pygments_lexer": "ipython3",
   "version": "3.8.5"
  }
 },
 "nbformat": 4,
 "nbformat_minor": 4
}
